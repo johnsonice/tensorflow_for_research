{
 "cells": [
  {
   "cell_type": "markdown",
   "metadata": {},
   "source": [
    "# Tensorflow Basics\n",
    "### Lecture 1 and 2 "
   ]
  },
  {
   "cell_type": "code",
   "execution_count": 2,
   "metadata": {
    "collapsed": true
   },
   "outputs": [],
   "source": [
    "import tensorflow as tf"
   ]
  },
  {
   "cell_type": "markdown",
   "metadata": {},
   "source": [
    "  ---- graph 1, graph structure ----"
   ]
  },
  {
   "cell_type": "code",
   "execution_count": 7,
   "metadata": {},
   "outputs": [
    {
     "name": "stdout",
     "output_type": "stream",
     "text": [
      "15625 10\n"
     ]
    }
   ],
   "source": [
    "tf.reset_default_graph()\n",
    "x=tf.constant(2)\n",
    "y=tf.constant(3)\n",
    "add_op = tf.add(x,y)\n",
    "mul_op = x*y\n",
    "useless = x*add_op\n",
    "pow_op = tf.pow(add_op,mul_op)\n",
    "with tf.Session() as sess:\n",
    "    z,not_useless = sess.run([pow_op,useless])\n",
    "print(z,not_useless)"
   ]
  },
  {
   "cell_type": "markdown",
   "metadata": {},
   "source": [
    "#### Specify devices "
   ]
  },
  {
   "cell_type": "code",
   "execution_count": 16,
   "metadata": {},
   "outputs": [
    {
     "name": "stdout",
     "output_type": "stream",
     "text": [
      "91.0\n"
     ]
    }
   ],
   "source": [
    "tf.reset_default_graph()\n",
    "with tf.device('/cpu:0'): ## you can also put on /gpu:0, /gpu:1 etc\n",
    "    a = tf.constant([1.0, 2.0, 3.0, 4.0, 5.0, 6.0], name='a')\n",
    "    b = tf.constant([1.0, 2.0, 3.0, 4.0, 5.0, 6.0], name='b')\n",
    "    c = tf.reduce_sum(tf.multiply(a, b)) ## dot product\n",
    "\n",
    "# creates a session with log_debice_placement set to Ture, it will put\n",
    "# operations on that device \n",
    "# if it is set to soft, it will auto adjust \n",
    "sess = tf.Session(config=tf.ConfigProto(log_device_placement=True))\n",
    "print(sess.run(c))"
   ]
  },
  {
   "cell_type": "markdown",
   "metadata": {},
   "source": [
    "#### Multiple graphes"
   ]
  },
  {
   "cell_type": "markdown",
   "metadata": {},
   "source": [
    "- with multiple graphs, you can not pass variables and values accross \n",
    "- the best practice is not to have multiple but just have disconnected graphs \n",
    "- but if you insist, here is the way to do it "
   ]
  },
  {
   "cell_type": "code",
   "execution_count": 19,
   "metadata": {},
   "outputs": [
    {
     "name": "stdout",
     "output_type": "stream",
     "text": [
      "default graph nodes: ['a', 'b', 'Mul', 'Const', 'Sum', 'Const_1', 'Const_2']\n",
      "graph1 nodes: ['Const', 'Const_1']\n",
      "graph2 nodes: ['Const', 'Const_1', 'Add']\n"
     ]
    }
   ],
   "source": [
    "g1 = tf.Graph()\n",
    "g2 = tf.Graph()\n",
    "\n",
    "c0 = tf.constant(0) ## op1 is added to the 'default graph which is   #different from both g1 and g2 \n",
    "## default graph \n",
    "default_graph = tf.get_default_graph() \n",
    "## graph 1 \n",
    "with g1.as_default():\n",
    "    c1 = tf.constant(1)\n",
    "    d1 = tf.constant(1)\n",
    "## graph 2 \n",
    "with g2.as_default():\n",
    "    c2 = tf.constant(2)\n",
    "    d2 = tf.constant(2)\n",
    "    res = tf.add(c2,d2)\n",
    "    \n",
    "\n",
    "## default graph nodes \n",
    "node_names = [n.name for n in tf.get_default_graph().as_graph_def().node]\n",
    "print('default graph nodes:',node_names)\n",
    "\n",
    "## g1 graph nodes \n",
    "node_names = [n.name for n in g1.as_graph_def().node]\n",
    "print('graph1 nodes:',node_names)\n",
    "\n",
    "## g2 graph nodes \n",
    "node_names = [n.name for n in g2.as_graph_def().node]\n",
    "print('graph2 nodes:',node_names)"
   ]
  },
  {
   "cell_type": "code",
   "execution_count": 20,
   "metadata": {},
   "outputs": [
    {
     "name": "stdout",
     "output_type": "stream",
     "text": [
      "0\n",
      "1\n",
      "4\n"
     ]
    }
   ],
   "source": [
    "## default session \n",
    "with tf.Session() as sess:\n",
    "    print(sess.run(c0))  ## if run c1, it will give you an error\n",
    "\n",
    "with tf.Session(graph = g1) as sess1:\n",
    "    print(sess1.run(c1))  ## if run c0 or c2, will give you an error\n",
    "\n",
    "with tf.Session(graph = g2) as sess2:\n",
    "    print(sess2.run(res))  ## if run c0 or c2, will give you an error"
   ]
  },
  {
   "cell_type": "markdown",
   "metadata": {},
   "source": [
    "## Tensorflow operations "
   ]
  },
  {
   "cell_type": "markdown",
   "metadata": {},
   "source": [
    "#### Constants "
   ]
  },
  {
   "cell_type": "markdown",
   "metadata": {},
   "source": [
    "- #### tf.constant(value, dtype=None, shape=None,name='Const', verify_shape=False)"
   ]
  },
  {
   "cell_type": "code",
   "execution_count": 23,
   "metadata": {
    "collapsed": true
   },
   "outputs": [],
   "source": [
    "tf.reset_default_graph()\n",
    "a = tf.constant([2, 2], name=\"a\")  ## if shpe is None and verify_shape=False, it will not check shape\n",
    "b = tf.constant([2,1],shape=[2],verify_shape=True) ## it will check tensorf shape, raise error if it doesn't match"
   ]
  },
  {
   "cell_type": "markdown",
   "metadata": {},
   "source": [
    "- tf.zeros(shape,dtype=tf.float32,name=None)\n",
    "- tf.zeros_like(input_tensor,dtype=None,name=None,optimize=True)\n",
    "- tf.fill(dim,value,name=None)     ## fill with some values"
   ]
  },
  {
   "cell_type": "code",
   "execution_count": 27,
   "metadata": {},
   "outputs": [
    {
     "name": "stdout",
     "output_type": "stream",
     "text": [
      "[[8 8 8 8 8]\n",
      " [8 8 8 8 8]\n",
      " [8 8 8 8 8]\n",
      " [8 8 8 8 8]\n",
      " [8 8 8 8 8]]\n"
     ]
    }
   ],
   "source": [
    "inp = tf.zeros([2,3],tf.int32,name='input')\n",
    "z = tf.zeros_like(inp,name='zeros')\n",
    "o = tf.ones_like(inp,name='ones')\n",
    "eight = tf.fill([5,5],8,name='fill_8')\n",
    "\n",
    "with tf.Session() as sess:\n",
    "    print(sess.run(eight))"
   ]
  },
  {
   "cell_type": "markdown",
   "metadata": {},
   "source": [
    "- #### tf.linspace(start, stop, num, name=None)\n",
    "- #### tf.range(start, limit=None, delta=1, dtype=None, name='range')\n",
    "- #### tf.range(start, limit, delta) ==> [3, 6, 9, 12, 15]"
   ]
  },
  {
   "cell_type": "code",
   "execution_count": 28,
   "metadata": {},
   "outputs": [
    {
     "data": {
      "text/plain": [
       "<tf.Tensor 'range_1:0' shape=(10,) dtype=int32>"
      ]
     },
     "execution_count": 28,
     "metadata": {},
     "output_type": "execute_result"
    }
   ],
   "source": [
    "tf.linspace(10.0, 13.0, 4) ## will give you [10,11,12,13]\n",
    "tf.range(3,18,3) ## with start with 3, but will not include 18 \n",
    "tf.range(10) ## will give [0-9]"
   ]
  },
  {
   "cell_type": "markdown",
   "metadata": {},
   "source": [
    "- tf.random_normal(shape, mean=0.0, stddev=1.0, dtype=tf.float32, seed=None, name=None)\n",
    "- tf.truncated_normal(shape, mean=0.0, stddev=1.0, dtype=tf.float32, seed=None,name=None)\n",
    "- tf.random_uniform(shape, minval=0, maxval=None, dtype=tf.float32, seed=None,name=None)\n",
    "- #### tf.random_shuffle(value, seed=None, name=None)\n",
    "- #### tf.random_crop(value, size, seed=None, name=None)  ## random crop images \n",
    "- tf.multinomial(logits, num_samples, seed=None, name=None)\n",
    "- tf.random_gamma(shape, alpha, beta=None, dtype=tf.float32, seed=None, name=None)"
   ]
  },
  {
   "cell_type": "code",
   "execution_count": 34,
   "metadata": {
    "collapsed": true
   },
   "outputs": [],
   "source": [
    "tf.reset_default_graph()\n",
    "a = tf.constant([[1,2,3],[2,2,3],[3,2,3],[4,2,3]])\n",
    "b = tf.random_shuffle(a)  ## always shuffle the first dimension "
   ]
  },
  {
   "cell_type": "code",
   "execution_count": 38,
   "metadata": {},
   "outputs": [
    {
     "name": "stdout",
     "output_type": "stream",
     "text": [
      "[[2 2 3]\n",
      " [1 2 3]\n",
      " [3 2 3]\n",
      " [4 2 3]]\n"
     ]
    }
   ],
   "source": [
    "with tf.Session() as sess:\n",
    "    print(sess.run(b))"
   ]
  },
  {
   "cell_type": "markdown",
   "metadata": {},
   "source": [
    "#### What is wrong with constant"
   ]
  },
  {
   "cell_type": "markdown",
   "metadata": {},
   "source": [
    "- #### constant will be stored in graph def, this makes loading graphs expensive when constants are big \n",
    "- Only use constants for primitive types.Use variables or readers for more data that requires more memory"
   ]
  },
  {
   "cell_type": "code",
   "execution_count": 42,
   "metadata": {},
   "outputs": [
    {
     "name": "stdout",
     "output_type": "stream",
     "text": [
      "node {\n",
      "  name: \"my_const\"\n",
      "  op: \"Const\"\n",
      "  attr {\n",
      "    key: \"dtype\"\n",
      "    value {\n",
      "      type: DT_FLOAT\n",
      "    }\n",
      "  }\n",
      "  attr {\n",
      "    key: \"value\"\n",
      "    value {\n",
      "      tensor {\n",
      "        dtype: DT_FLOAT\n",
      "        tensor_shape {\n",
      "          dim {\n",
      "            size: 2\n",
      "          }\n",
      "        }\n",
      "        tensor_content: \"\\000\\000\\200?\\000\\000\\000@\"\n",
      "      }\n",
      "    }\n",
      "  }\n",
      "}\n",
      "versions {\n",
      "  producer: 21\n",
      "}\n",
      "\n"
     ]
    }
   ],
   "source": [
    "tf.reset_default_graph()\n",
    "my_const = tf.constant([1.0, 2.0], name=\"my_const\")\n",
    "with tf.Session() as sess:\n",
    "    print (sess.graph.as_graph_def())\n",
    "# you will see value of my_const stored in the graph’s definition"
   ]
  },
  {
   "cell_type": "markdown",
   "metadata": {},
   "source": [
    "### Variables "
   ]
  },
  {
   "cell_type": "code",
   "execution_count": 10,
   "metadata": {
    "collapsed": true
   },
   "outputs": [],
   "source": [
    "tf.reset_default_graph()"
   ]
  },
  {
   "cell_type": "code",
   "execution_count": 11,
   "metadata": {
    "collapsed": true
   },
   "outputs": [],
   "source": [
    "a = tf.Variable(2, name=\"scalar\")\n",
    "b = tf.Variable([2, 3], name=\"vector\")\n",
    "c = tf.Variable([[0, 1], [2, 3]], name=\"matrix\")\n",
    "W = tf.Variable(tf.zeros([784,10]),name = 'weight')"
   ]
  },
  {
   "cell_type": "markdown",
   "metadata": {
    "collapsed": true
   },
   "source": [
    "- ##### tf.Variables holde several ops: .initializer .value .assign .assign_add and more"
   ]
  },
  {
   "cell_type": "code",
   "execution_count": 12,
   "metadata": {},
   "outputs": [
    {
     "name": "stdout",
     "output_type": "stream",
     "text": [
      "2\n",
      "[2 3]\n"
     ]
    }
   ],
   "source": [
    "## easiest way to initialize all variables \n",
    "init = tf.global_variables_initializer()\n",
    "with tf.Session() as sess:\n",
    "    sess.run(init)\n",
    "    print(sess.run(a))\n",
    "    \n",
    "## Initialize only a subset of variables:\n",
    "init_ab = tf.variables_initializer([a, b], name=\"init_ab\")\n",
    "with tf.Session() as sess:\n",
    "    sess.run(init_ab)\n",
    "    print(sess.run(b))"
   ]
  },
  {
   "cell_type": "code",
   "execution_count": 14,
   "metadata": {},
   "outputs": [
    {
     "name": "stdout",
     "output_type": "stream",
     "text": [
      "1000\n"
     ]
    }
   ],
   "source": [
    "## assign value to variable \n",
    "assign_op = a.assign(1000)\n",
    "with tf.Session() as sess:\n",
    "    sess.run(assign_op)  ## must run assign op \n",
    "    print(a.eval())"
   ]
  },
  {
   "cell_type": "markdown",
   "metadata": {},
   "source": [
    "### Placeholder"
   ]
  },
  {
   "cell_type": "markdown",
   "metadata": {},
   "source": [
    "#### tf.placeholder(dtype, shape=None, name=None)\n",
    "- shape=None means that tensor of any shape will be accepted as value for placeholder.\n",
    "- shape=None also breaks all following shape inference, which makes many ops not work because they expect certain rank."
   ]
  },
  {
   "cell_type": "code",
   "execution_count": 27,
   "metadata": {},
   "outputs": [
    {
     "data": {
      "text/plain": [
       "True"
      ]
     },
     "execution_count": 27,
     "metadata": {},
     "output_type": "execute_result"
    }
   ],
   "source": [
    "tf.reset_default_graph()\n",
    "# create a placeholder of type float 32-bit, shape is a vector of 3 elements\n",
    "a = tf.placeholder(tf.float32, shape=[3])\n",
    "b = tf.constant([5, 5, 5], tf.float32)\n",
    "c = a + b # Short for tf.add(a, b)\n",
    "## see if a is a feedable tensor \n",
    "tf.Graph.is_feedable(tf.get_default_graph(),tensor=a)"
   ]
  },
  {
   "cell_type": "code",
   "execution_count": 28,
   "metadata": {},
   "outputs": [
    {
     "name": "stdout",
     "output_type": "stream",
     "text": [
      "[ 6.  7.  8.]\n"
     ]
    }
   ],
   "source": [
    "## feed into the session with a dictionary \n",
    "with tf.Session() as sess:\n",
    "    print (sess.run(c, {a: [1, 2, 3]}))"
   ]
  },
  {
   "cell_type": "code",
   "execution_count": null,
   "metadata": {
    "collapsed": true
   },
   "outputs": [],
   "source": []
  }
 ],
 "metadata": {
  "kernelspec": {
   "display_name": "Python 3",
   "language": "python",
   "name": "python3"
  },
  "language_info": {
   "codemirror_mode": {
    "name": "ipython",
    "version": 3
   },
   "file_extension": ".py",
   "mimetype": "text/x-python",
   "name": "python",
   "nbconvert_exporter": "python",
   "pygments_lexer": "ipython3",
   "version": "3.5.4"
  }
 },
 "nbformat": 4,
 "nbformat_minor": 2
}
